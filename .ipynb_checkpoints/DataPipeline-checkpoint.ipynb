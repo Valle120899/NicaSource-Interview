{
 "cells": [
  {
   "cell_type": "code",
   "execution_count": 2,
   "id": "56e2db85",
   "metadata": {},
   "outputs": [],
   "source": [
    "#Importing libraries\n",
    "import numpy as np\n",
    "import pandas as pd"
   ]
  },
  {
   "cell_type": "code",
   "execution_count": 41,
   "id": "b9f12533",
   "metadata": {},
   "outputs": [],
   "source": [
    "def CommonInf(Introduction, ds):\n",
    "    string = \"\"\"\n",
    "    {}\n",
    "    \n",
    "    Common information:\n",
    "    Head:\n",
    "    {}\n",
    "    \n",
    "    Null values:\n",
    "    {}\n",
    "        \"\"\".format(Introduction, ds.head(5), ds.isnull().sum() )\n",
    "    return string"
   ]
  },
  {
   "cell_type": "code",
   "execution_count": 42,
   "id": "6f26edbc",
   "metadata": {},
   "outputs": [],
   "source": [
    "def NanValues(ds):\n",
    "    #Verify how many null rows there are in the ds doesnt matter the column\n",
    "    NullValues = ds.isnull().sum().sum()\n",
    "    \n",
    "    #Validation about null values\n",
    "    if(NullValues > 0):\n",
    "        return ds.dropna()\n",
    "    else:\n",
    "        return ds"
   ]
  },
  {
   "cell_type": "code",
   "execution_count": 45,
   "id": "af7cadeb",
   "metadata": {},
   "outputs": [],
   "source": [
    "def ExtractAndTransform():\n",
    "    ds = pd.read_csv('dataset.csv')\n",
    "    print(CommonInf('Initial dataset', ds))\n",
    "    \n",
    "    #Validation for nan values\n",
    "    ds = NanValues(ds)\n",
    "    print(CommonInf('Dataset after null validation',ds))\n",
    "    "
   ]
  },
  {
   "cell_type": "code",
   "execution_count": null,
   "id": "bd0eb4a7",
   "metadata": {},
   "outputs": [],
   "source": []
  },
  {
   "cell_type": "code",
   "execution_count": null,
   "id": "337fe4df",
   "metadata": {},
   "outputs": [],
   "source": []
  },
  {
   "cell_type": "code",
   "execution_count": 46,
   "id": "04d21395",
   "metadata": {},
   "outputs": [
    {
     "name": "stdout",
     "output_type": "stream",
     "text": [
      "\n",
      "    Initial dataset\n",
      "    \n",
      "    Common information:\n",
      "    Head:\n",
      "       id            Car    Model                Vin    year   DateSales  \\\n",
      "0   1     Mitsubishi  Montero  KNDMB5C12F6902247  1994.0         NaN   \n",
      "1   2  Mercedes-Benz  S-Class  WBAEW53452P255038  2000.0  2018-06-03   \n",
      "2   3        Pontiac   Safari  1FAHP2DW3CG268549  1989.0  2015-01-04   \n",
      "3   4           Ford  Galaxie  1N4AA5AP4CC565502  1966.0         NaN   \n",
      "4   5          Dodge  Caravan  3C3CFFJH4DT632323  2011.0  2020-01-31   \n",
      "\n",
      "        Address  \n",
      "0           NaN  \n",
      "1      Room 739  \n",
      "2           NaN  \n",
      "3     Room 1058  \n",
      "4  PO Box 72312  \n",
      "    \n",
      "    Null values:\n",
      "    id             0\n",
      "Car            0\n",
      "Model          0\n",
      "Vin            0\n",
      "year         198\n",
      "DateSales    442\n",
      "Address      553\n",
      "dtype: int64\n",
      "        \n",
      "\n",
      "    Dataset after null validation\n",
      "    \n",
      "    Common information:\n",
      "    Head:\n",
      "        id            Car         Model                Vin    year   DateSales  \\\n",
      "1    2  Mercedes-Benz       S-Class  WBAEW53452P255038  2000.0  2018-06-03   \n",
      "4    5          Dodge       Caravan  3C3CFFJH4DT632323  2011.0  2020-01-31   \n",
      "8    9          Mazda       Tribute  5N1AN0NU2CN562731  2003.0  2001-07-11   \n",
      "21  22           Ford    Club Wagon  3FAHP0CGXBR012740  1997.0  2013-08-13   \n",
      "24  25         Suzuki  Grand Vitara  1G6DP57V490474996  2012.0  2015-04-28   \n",
      "\n",
      "         Address  \n",
      "1       Room 739  \n",
      "4   PO Box 72312  \n",
      "8       Suite 33  \n",
      "21      Apt 1234  \n",
      "24     4th Floor  \n",
      "    \n",
      "    Null values:\n",
      "    id           0\n",
      "Car          0\n",
      "Model        0\n",
      "Vin          0\n",
      "year         0\n",
      "DateSales    0\n",
      "Address      0\n",
      "dtype: int64\n",
      "        \n"
     ]
    }
   ],
   "source": [
    "#Main function\n",
    "if __name__ == \"__main__\":\n",
    "    ExtractAndTransform()"
   ]
  }
 ],
 "metadata": {
  "kernelspec": {
   "display_name": "Python 3 (ipykernel)",
   "language": "python",
   "name": "python3"
  },
  "language_info": {
   "codemirror_mode": {
    "name": "ipython",
    "version": 3
   },
   "file_extension": ".py",
   "mimetype": "text/x-python",
   "name": "python",
   "nbconvert_exporter": "python",
   "pygments_lexer": "ipython3",
   "version": "3.10.5"
  }
 },
 "nbformat": 4,
 "nbformat_minor": 5
}
