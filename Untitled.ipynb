{
 "cells": [
  {
   "cell_type": "code",
   "execution_count": 2,
   "id": "5321cf7c",
   "metadata": {},
   "outputs": [],
   "source": [
    "#Importing libraries\n",
    "import numpy as np\n",
    "import pandas as pd"
   ]
  },
  {
   "cell_type": "code",
   "execution_count": 26,
   "id": "11fb01a8",
   "metadata": {},
   "outputs": [],
   "source": [
    "def CommonInf(ds):\n",
    "    string = \"\"\"\n",
    "    Common information:\n",
    "    Head:\n",
    "    {0}\n",
    "    \n",
    "    Null values:\n",
    "    {2}\n",
    "        \"\"\".format(ds.head(5), ds.isnull().sum() )\n",
    "    return string"
   ]
  },
  {
   "cell_type": "code",
   "execution_count": 22,
   "id": "623522c1",
   "metadata": {},
   "outputs": [],
   "source": [
    "def ExtractAndLoad():\n",
    "    ds = pd.read_csv('dataset.csv')\n",
    "    print(CommonInf(ds))"
   ]
  },
  {
   "cell_type": "code",
   "execution_count": null,
   "id": "2a31d283",
   "metadata": {},
   "outputs": [],
   "source": []
  },
  {
   "cell_type": "code",
   "execution_count": null,
   "id": "264937f9",
   "metadata": {},
   "outputs": [],
   "source": []
  },
  {
   "cell_type": "code",
   "execution_count": 27,
   "id": "0301a488",
   "metadata": {},
   "outputs": [
    {
     "name": "stdout",
     "output_type": "stream",
     "text": [
      "<class 'pandas.core.frame.DataFrame'>\n",
      "RangeIndex: 1000 entries, 0 to 999\n",
      "Data columns (total 7 columns):\n",
      " #   Column     Non-Null Count  Dtype  \n",
      "---  ------     --------------  -----  \n",
      " 0   id         1000 non-null   int64  \n",
      " 1   Car        1000 non-null   object \n",
      " 2   Model      1000 non-null   object \n",
      " 3   Vin        1000 non-null   object \n",
      " 4   year       802 non-null    float64\n",
      " 5   DateSales  558 non-null    object \n",
      " 6   Address    447 non-null    object \n",
      "dtypes: float64(1), int64(1), object(5)\n",
      "memory usage: 54.8+ KB\n",
      "\n",
      "    Common information:\n",
      "    Head:\n",
      "       id            Car    Model                Vin    year   DateSales  \\\n",
      "0   1     Mitsubishi  Montero  KNDMB5C12F6902247  1994.0         NaN   \n",
      "1   2  Mercedes-Benz  S-Class  WBAEW53452P255038  2000.0  2018-06-03   \n",
      "2   3        Pontiac   Safari  1FAHP2DW3CG268549  1989.0  2015-01-04   \n",
      "3   4           Ford  Galaxie  1N4AA5AP4CC565502  1966.0         NaN   \n",
      "4   5          Dodge  Caravan  3C3CFFJH4DT632323  2011.0  2020-01-31   \n",
      "\n",
      "        Address  \n",
      "0           NaN  \n",
      "1      Room 739  \n",
      "2           NaN  \n",
      "3     Room 1058  \n",
      "4  PO Box 72312  \n",
      "    \n",
      "    \n",
      "    Dataset Schema/datatypes:\n",
      "    None\n",
      "    \n",
      "    \n",
      "    Null values:\n",
      "    id             0\n",
      "Car            0\n",
      "Model          0\n",
      "Vin            0\n",
      "year         198\n",
      "DateSales    442\n",
      "Address      553\n",
      "dtype: int64\n",
      "        \n"
     ]
    }
   ],
   "source": [
    "#Main function\n",
    "if __name__ == \"__main__\":\n",
    "    ExtractAndLoad()"
   ]
  }
 ],
 "metadata": {
  "kernelspec": {
   "display_name": "Python 3 (ipykernel)",
   "language": "python",
   "name": "python3"
  },
  "language_info": {
   "codemirror_mode": {
    "name": "ipython",
    "version": 3
   },
   "file_extension": ".py",
   "mimetype": "text/x-python",
   "name": "python",
   "nbconvert_exporter": "python",
   "pygments_lexer": "ipython3",
   "version": "3.10.5"
  }
 },
 "nbformat": 4,
 "nbformat_minor": 5
}
