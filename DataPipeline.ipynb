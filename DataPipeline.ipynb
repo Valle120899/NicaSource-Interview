{
 "cells": [
  {
   "cell_type": "code",
   "execution_count": 1,
   "id": "b85066cd",
   "metadata": {},
   "outputs": [],
   "source": [
    "#Importing libraries\n",
    "import numpy as np\n",
    "import pandas as pd\n",
    "import warnings"
   ]
  },
  {
   "cell_type": "code",
   "execution_count": 2,
   "id": "0544cb41",
   "metadata": {},
   "outputs": [],
   "source": [
    "warnings.filterwarnings('ignore')"
   ]
  },
  {
   "cell_type": "code",
   "execution_count": 3,
   "id": "591836ff",
   "metadata": {},
   "outputs": [],
   "source": [
    "def CommonInf(Introduction, ds):\n",
    "    #Common information\n",
    "    string = \"\"\"\n",
    "    {}\n",
    "    \n",
    "    Common information:\n",
    "    Head:\n",
    "    {}\n",
    "    \n",
    "    Null values:\n",
    "    {}\n",
    "    \n",
    "    Row size:\n",
    "    {}\n",
    "        \"\"\".format(Introduction, ds.head(5), ds.isnull().sum(), ds.shape[0] )\n",
    "    return string"
   ]
  },
  {
   "cell_type": "code",
   "execution_count": 4,
   "id": "9b3ad798",
   "metadata": {},
   "outputs": [],
   "source": [
    "def NanValues(ds):\n",
    "    #Verify how many null rows there are in the ds doesnt matter the column\n",
    "    NullValues = ds.isnull().sum().sum()\n",
    "    \n",
    "    #Validation about null values\n",
    "    if(NullValues > 0):\n",
    "        return ds.dropna()\n",
    "    else:\n",
    "        return ds"
   ]
  },
  {
   "cell_type": "code",
   "execution_count": 5,
   "id": "bb492142",
   "metadata": {},
   "outputs": [],
   "source": [
    "def dateFormat(ds):\n",
    "    ds['DateSales']= pd.to_datetime(ds['DateSales'])\n",
    "    #Casting the dateSales column with the standart date format yyyy/mm/dd\n",
    "    ds['DateSales'] = ds['DateSales'].dt.strftime('%Y/%m/%d')\n",
    "    return ds"
   ]
  },
  {
   "cell_type": "code",
   "execution_count": 6,
   "id": "6c95f1a6",
   "metadata": {},
   "outputs": [],
   "source": [
    "def CategoricalRow(ds):\n",
    "    #Factorizing the model column in order to have a different number per category\n",
    "    ds['Model'] = pd.factorize(ds['Model'])[0] \n",
    "    return pd.DataFrame(ds)"
   ]
  },
  {
   "cell_type": "code",
   "execution_count": 7,
   "id": "f80295d8",
   "metadata": {},
   "outputs": [],
   "source": [
    "def YearSale(ds):\n",
    "    #Cast to datetime the datesales column\n",
    "    ds['DateSales']= pd.to_datetime(ds['DateSales'])\n",
    "    #Extracting only the year in a new column called year sale\n",
    "    ds['Year Sale'] = ds['DateSales'].dt.strftime('%Y')\n",
    "    return ds"
   ]
  },
  {
   "cell_type": "code",
   "execution_count": 8,
   "id": "547077b9",
   "metadata": {},
   "outputs": [],
   "source": [
    "def DoubletoInt(ds):\n",
    "    #Cast only the year column to int type\n",
    "    ds['year'] = ds['year'].astype(int)\n",
    "    return ds"
   ]
  },
  {
   "cell_type": "code",
   "execution_count": 9,
   "id": "ab959081",
   "metadata": {},
   "outputs": [],
   "source": [
    "def ExtractAndTransform():\n",
    "    ds = pd.read_csv('dataset.csv')\n",
    "    #print(CommonInf('Initial dataset', ds))\n",
    "    \n",
    "    #Validation for nan values\n",
    "    ds = NanValues(ds)\n",
    "    #print(CommonInf('Dataset after null validation',ds))\n",
    "    \n",
    "    #Validation for standart date format yyyy/mm/dd\n",
    "    ds = dateFormat(ds)\n",
    "    \n",
    "    #Year of sale\n",
    "    ds = YearSale(ds)\n",
    "    \n",
    "    #Converting model to numeric values\n",
    "    ds = CategoricalRow(ds)\n",
    "    \n",
    "    #Casting year column from double to int\n",
    "    ds= DoubletoInt(ds)\n",
    "    \n",
    "    print(ds.head(5))\n",
    "    \n",
    "    #return de final dataframe\n",
    "    return ds\n",
    "    "
   ]
  },
  {
   "cell_type": "code",
   "execution_count": null,
   "id": "4c29a6f1",
   "metadata": {},
   "outputs": [],
   "source": [
    "def InsertInPostgresql(ds)"
   ]
  },
  {
   "cell_type": "code",
   "execution_count": null,
   "id": "7c1a60b1",
   "metadata": {},
   "outputs": [],
   "source": []
  },
  {
   "cell_type": "code",
   "execution_count": 11,
   "id": "f33ff709",
   "metadata": {},
   "outputs": [
    {
     "name": "stdout",
     "output_type": "stream",
     "text": [
      "   id         Car  Model                Vin  year  DateSales       Address  \\\n",
      "1   2  Volkswagen      0  19UUA66285A189929  2010 2013-09-10  PO Box 48548   \n",
      "2   3        Ford      1  1G6YX36D365936025  1995 2006-10-22      Suite 36   \n",
      "3   4        Audi      2  WBAPK53569A461317  2000 2005-02-18  PO Box 75995   \n",
      "5   6   Chevrolet      3  1GKS1HE0XBR157468  1993 2011-07-28  PO Box 27981   \n",
      "6   7  Mitsubishi      4  WAUKH78E67A197316  2000 2017-08-22      Suite 78   \n",
      "\n",
      "  Year Sale  \n",
      "1      2013  \n",
      "2      2006  \n",
      "3      2005  \n",
      "5      2011  \n",
      "6      2017  \n",
      "Error: name 'InsertInPostgresql' is not defined\n"
     ]
    }
   ],
   "source": [
    "#Main function\n",
    "if __name__ == \"__main__\":\n",
    "    df = ExtractAndTransform()\n",
    "    \n",
    "    try:\n",
    "        InsertInPostgresql(df)\n",
    "    except Exception as e: \n",
    "        print('Error: {}'.format(e))"
   ]
  }
 ],
 "metadata": {
  "kernelspec": {
   "display_name": "Python 3 (ipykernel)",
   "language": "python",
   "name": "python3"
  },
  "language_info": {
   "codemirror_mode": {
    "name": "ipython",
    "version": 3
   },
   "file_extension": ".py",
   "mimetype": "text/x-python",
   "name": "python",
   "nbconvert_exporter": "python",
   "pygments_lexer": "ipython3",
   "version": "3.10.5"
  }
 },
 "nbformat": 4,
 "nbformat_minor": 5
}
